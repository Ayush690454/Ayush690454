{
 "cells": [
  {
   "cell_type": "code",
   "execution_count": 9,
   "id": "29279ed0",
   "metadata": {},
   "outputs": [
    {
     "name": "stdout",
     "output_type": "stream",
     "text": [
      "2\n",
      "4\n"
     ]
    }
   ],
   "source": [
    "list=[1,2,2,2,4,4,4]\n",
    "def freq(list):\n",
    "  dict={}\n",
    "  for i in list :\n",
    "    if i in dict:\n",
    "      dict[i]+=1\n",
    "    else:\n",
    "      dict[i]=1\n",
    "  for x,y in dict.items():\n",
    "      if y==3:\n",
    "       print(x)\n",
    "freq(list)"
   ]
  },
  {
   "cell_type": "code",
   "execution_count": 28,
   "id": "a0374284",
   "metadata": {},
   "outputs": [
    {
     "name": "stdout",
     "output_type": "stream",
     "text": [
      "black\n",
      "apache RTR\n",
      "150cc\n",
      "disc\n",
      "steel\n",
      "tubeless tyre\n",
      "<__main__.motorcycle object at 0x000002A7A9F21B10>\n",
      "None\n",
      "3\n"
     ]
    }
   ],
   "source": [
    "class motorcycle:\n",
    "    def __init__(self, colour, model,engine,brake,material,tyre,liter):\n",
    "        self.colour = colour\n",
    "        self.model = model\n",
    "        self.engine = engine\n",
    "        self.brake = brake\n",
    "        self.material = material\n",
    "        self.tyre = tyre\n",
    "        self.liter = liter\n",
    "    def address(self):\n",
    "        print(self)\n",
    "    def working(self,chalna):\n",
    "        left=self.liter-chalna\n",
    "        self.liter=left \n",
    "        return left \n",
    "        \n",
    "        \n",
    "v=motorcycle(\"black\",\"apache RTR\",\"150cc\",\"disc\",\"steel\",\"tubeless tyre\",6)\n",
    "\n",
    "b=motorcycle(\"red\",\"pulsar\",\"120cc\",\"disc\",\"steel\",\"tubeless tyre\",5)\n",
    "print(v.colour)\n",
    "\n",
    "print(v.model)\n",
    "\n",
    "print(v.engine)\n",
    "\n",
    "print(v.brake)\n",
    "\n",
    "print(v.material)\n",
    "\n",
    "print(v.tyre)\n",
    "\n",
    "print(v.address())\n",
    "\n",
    "print(v.working(3))\n",
    "\n"
   ]
  },
  {
   "cell_type": "code",
   "execution_count": 49,
   "id": "46d8f169",
   "metadata": {},
   "outputs": [
    {
     "name": "stdout",
     "output_type": "stream",
     "text": [
      "<__main__.bankaccount object at 0x000002A7AB2A6F10>\n",
      "46000\n",
      "40000\n",
      "40000\n",
      "None\n"
     ]
    }
   ],
   "source": [
    "class bankaccount:\n",
    "    def __init__(self,owner,balance):\n",
    "        self.owner=owner\n",
    "        self.balance=balance\n",
    "    \n",
    "    def deposit(self,dept):\n",
    "        depo=self.balance+dept\n",
    "        self.balance=depo\n",
    "        return depo\n",
    "        \n",
    "    def widthraw(self,nikalna):\n",
    "        left=self.balance - nikalna\n",
    "        self.balance= left\n",
    "        return left\n",
    "    \n",
    "    def getbalance(self):\n",
    "       print(self.balance)\n",
    "\n",
    "v1=bankaccount(\"ayush\",45000)\n",
    "print(v1)\n",
    "print(v1.deposit(1000))\n",
    "print(v1.widthraw(6000))\n",
    "print(v1.getbalance())\n",
    "\n",
    "        \n",
    "    "
   ]
  },
  {
   "cell_type": "code",
   "execution_count": null,
   "id": "672ceb7b",
   "metadata": {},
   "outputs": [
    {
     "name": "stdout",
     "output_type": "stream",
     "text": [
      "Items in cart:\n",
      "Name: Aaloo\n",
      "Price: $20\n",
      "Quantity in kg: 1\n",
      "--------------------\n",
      "Name: Onion\n",
      "Price: $30\n",
      "Quantity in kg: 5\n",
      "--------------------\n",
      "Total price: $170\n"
     ]
    }
   ],
   "source": [
    "class Item:\n",
    "    def __init__(self, name, price, quantity):\n",
    "        self.name = name\n",
    "        self.price = price\n",
    "        self.quantity = quantity\n",
    "\n",
    "    def display(self):\n",
    "        print(f\"Name: {self.name}\")\n",
    "        print(f\"Price: ${self.price}\")\n",
    "        print(f\"Quantity in kg: {self.quantity}\")\n",
    "        print(\"-\" * 20)\n",
    "\n",
    "class Cart:\n",
    "    def __init__(self):\n",
    "        self.l = []\n",
    "\n",
    "    def add(self, item):\n",
    "        self.l.append(item)\n",
    "\n",
    "    def remove(self, item):\n",
    "        if item in self.l:\n",
    "            self.l.remove(item)\n",
    "        else:\n",
    "            print(\"Item not found\")\n",
    "\n",
    "    def display(self):\n",
    "        print(\"Items in cart:\")\n",
    "        for item in self.l:\n",
    "            item.display()\n",
    "\n",
    "    def sum(self):\n",
    "        result = 0\n",
    "        for item in self.l:\n",
    "            result += item.price * item.quantity\n",
    "        return result\n",
    "\n",
    "item1 = Item(\"Aaloo\", 20, 1)\n",
    "item2 = Item(\"Onion\", 30, 5)\n",
    "\n",
    "my_cart = Cart()\n",
    "my_cart.add(item1)\n",
    "my_cart.add(item2)\n",
    "\n",
    "my_cart.display()\n",
    "\n",
    "print(f\"Total price: ${my_cart.sum()}\")\n",
    "\n",
    "\n",
    "\n",
    "\n",
    "\n",
    "    \n"
   ]
  },
  {
   "cell_type": "code",
   "execution_count": 18,
   "id": "4aaacc71",
   "metadata": {},
   "outputs": [
    {
     "name": "stdout",
     "output_type": "stream",
     "text": [
      "Total number of students for Chemistry: 4\n",
      "Total marks of students for Chemistry: 120\n",
      "Total number of students for Math: 2\n",
      "Total marks of students for Math: 160\n",
      "Total number of students for Physics: 4\n",
      "Total marks of students for Physics: 230\n"
     ]
    },
    {
     "data": {
      "text/plain": [
       "230"
      ]
     },
     "execution_count": 18,
     "metadata": {},
     "output_type": "execute_result"
    }
   ],
   "source": [
    "class Student:\n",
    "    def __init__(self, name, marks):\n",
    "        self.name = name\n",
    "        self.marks = marks\n",
    "\n",
    "    def display(self):\n",
    "        print(f\"NAME OF STUDENT: {self.name}\")\n",
    "        print(f\"MARKS OF STUDENT: {self.marks}\")\n",
    "\n",
    "class Teacher:\n",
    "    def __init__(self, Tname, subject, ls):\n",
    "        self.Tname = Tname\n",
    "        self.subject = subject\n",
    "        self.list = ls\n",
    "\n",
    "    def total_students(self):\n",
    "        print(f\"Total number of students for {self.subject}: {len(self.list)}\")\n",
    "\n",
    "    def total_marks(self):\n",
    "        total = 0\n",
    "        for i in self.list:\n",
    "            total += i.marks\n",
    "        print(f\"Total marks of students for {self.subject}: {total}\")\n",
    "        return total\n",
    "\n",
    "# Create student objects\n",
    "a = Student(\"ab\", 20)\n",
    "b = Student(\"ba\", 90)\n",
    "c = Student(\"cb\", 40)\n",
    "d = Student(\"da\", 40)\n",
    "e = Student(\"be\", 20)\n",
    "f = Student(\"ef\", 70)\n",
    "g = Student(\"kb\", 50)\n",
    "j = Student(\"jn\", 90)\n",
    "i = Student(\"ob\", 60)\n",
    "k = Student(\"pl\", 30)\n",
    "\n",
    "# Assign students to teachers\n",
    "tm = Teacher(\"Tem\", \"Chemistry\", [a, c, d, e])\n",
    "tc = Teacher(\"Tem\", \"Math\", [b, f])\n",
    "tb = Teacher(\"Tem\", \"Physics\", [g, j, i, k])\n",
    "\n",
    "# Show total students and marks\n",
    "tm.total_students()\n",
    "tm.total_marks()\n",
    "\n",
    "tc.total_students()\n",
    "tc.total_marks()\n",
    "\n",
    "tb.total_students()\n",
    "tb.total_marks()\n",
    "\n",
    "\n",
    "            \n",
    "    \n",
    "        \n",
    "        "
   ]
  },
  {
   "cell_type": "code",
   "execution_count": 1,
   "id": "89403f68",
   "metadata": {},
   "outputs": [
    {
     "name": "stdout",
     "output_type": "stream",
     "text": [
      "postion found 2\n"
     ]
    }
   ],
   "source": [
    "def bsearch(list,item):\n",
    "    low=0\n",
    "    high=len(list)-1\n",
    "    while(low<high):\n",
    "        mid=(low+high)//2\n",
    "        if list[mid]==int(item):\n",
    "            return mid\n",
    "        elif list[mid]>int(item):\n",
    "            high=mid+1\n",
    "        else:\n",
    "            low=mid-1\n",
    "    return-1\n",
    "list1=[2,6,9,8,4,5]\n",
    "n=input(\"enter the item to search:\")\n",
    "pos=bsearch(list1,n)\n",
    "if pos==-1:\n",
    "    print(\"not found\")\n",
    "else:\n",
    "    print(\"postion found\", pos+1)\n"
   ]
  },
  {
   "cell_type": "code",
   "execution_count": 49,
   "id": "9d825f3c",
   "metadata": {},
   "outputs": [
    {
     "data": {
      "text/plain": [
       "'123477'"
      ]
     },
     "execution_count": 49,
     "metadata": {},
     "output_type": "execute_result"
    }
   ],
   "source": [
    "def answer(n,m):\n",
    "    return str(n) + str(m)\n",
    "n=1234\n",
    "m=77\n",
    "answer(n,m)\n",
    "\n",
    "\n"
   ]
  },
  {
   "cell_type": "code",
   "execution_count": 50,
   "id": "03e228a5",
   "metadata": {},
   "outputs": [
    {
     "data": {
      "text/plain": [
       "1774"
      ]
     },
     "execution_count": 50,
     "metadata": {},
     "output_type": "execute_result"
    }
   ],
   "source": [
    "def answer(n):\n",
    "    return n+540\n",
    "n=1234\n",
    "\n",
    "answer(n)"
   ]
  },
  {
   "cell_type": "code",
   "execution_count": 54,
   "id": "bc5a9193",
   "metadata": {},
   "outputs": [
    {
     "name": "stdout",
     "output_type": "stream",
     "text": [
      "number of vowels: 5\n"
     ]
    }
   ],
   "source": [
    "s=\"hello,welcome\"\n",
    "vowels={'a','e','i','o','u'}\n",
    "c= sum(1 for ch in s if ch in vowels)\n",
    "print(\"number of vowels:\",c)"
   ]
  },
  {
   "cell_type": "code",
   "execution_count": 55,
   "id": "4bafdb06",
   "metadata": {},
   "outputs": [
    {
     "name": "stdout",
     "output_type": "stream",
     "text": [
      "true\n"
     ]
    }
   ],
   "source": [
    "def arestrsame(s1,s2):\n",
    "    return s1==s2\n",
    "s1=\"abc\"\n",
    "s2=\"abc\"\n",
    "if arestrsame(s1,s2):\n",
    "    print(\"true\")\n",
    "else:\n",
    "    print(\"false\")"
   ]
  },
  {
   "cell_type": "code",
   "execution_count": 57,
   "id": "67ec1a74",
   "metadata": {},
   "outputs": [
    {
     "name": "stdout",
     "output_type": "stream",
     "text": [
      "python isalguecfrv\n"
     ]
    }
   ],
   "source": [
    "s=\"python is a language python can use for various purpos\"\n",
    "seen=set()\n",
    "res=\"\"\n",
    "for char in s:\n",
    "    if char not in seen:\n",
    "        seen.add(char)\n",
    "        res+=char\n",
    "print(res)"
   ]
  },
  {
   "cell_type": "code",
   "execution_count": 58,
   "id": "3d59c6d8",
   "metadata": {},
   "outputs": [
    {
     "name": "stdout",
     "output_type": "stream",
     "text": [
      "yes\n"
     ]
    }
   ],
   "source": [
    "s1=\"listen\"\n",
    "s2=\"silent\"\n",
    "if sorted(s1) == sorted(s2):\n",
    "    print(\"yes\")\n",
    "else:\n",
    "    print(\"no\")"
   ]
  },
  {
   "cell_type": "code",
   "execution_count": 60,
   "id": "3fd576cc",
   "metadata": {},
   "outputs": [
    {
     "name": "stdout",
     "output_type": "stream",
     "text": [
      "Number of consonants: 8\n"
     ]
    }
   ],
   "source": [
    "def is_lower_case_alphabet(ch):\n",
    "    return 'a' <= ch <= 'z'\n",
    "\n",
    "def is_vowel(ch):\n",
    "    return ch in {'a', 'e', 'i', 'o', 'u'}\n",
    "\n",
    "word = \"programming\"\n",
    "consonant_count = 0\n",
    "\n",
    "for i in range(len(word)):\n",
    "    # Convert to lowercase for case-insensitivity\n",
    "    ch = word[i].lower()\n",
    "    if is_lower_case_alphabet(ch) and not is_vowel(ch):\n",
    "        consonant_count += 1\n",
    "\n",
    "print(\"Number of consonants:\", consonant_count)\n",
    "    \n",
    "    "
   ]
  },
  {
   "cell_type": "code",
   "execution_count": null,
   "id": "36219bb7",
   "metadata": {},
   "outputs": [
    {
     "name": "stdout",
     "output_type": "stream",
     "text": [
      "28\n"
     ]
    }
   ],
   "source": []
  },
  {
   "cell_type": "code",
   "execution_count": 66,
   "id": "aedfda13",
   "metadata": {},
   "outputs": [
    {
     "name": "stdout",
     "output_type": "stream",
     "text": [
      "numberr of digits:4\n"
     ]
    }
   ],
   "source": [
    "def count_num(n):\n",
    "    count =0\n",
    "    while n!=0:\n",
    "        n//=10\n",
    "        count+=1\n",
    "    return count\n",
    "num=int(input(\"enter the value:\"))\n",
    "if num == 0:\n",
    "    print(\"sum of digits : 1\")\n",
    "else:\n",
    "    print(f\"numberr of digits:{count_num(abs(num))}\")\n",
    "    "
   ]
  },
  {
   "cell_type": "code",
   "execution_count": 67,
   "id": "744599af",
   "metadata": {},
   "outputs": [
    {
     "name": "stdout",
     "output_type": "stream",
     "text": [
      "sum of digits:33\n"
     ]
    }
   ],
   "source": [
    "def sumofdigits(n):\n",
    "    sum_digits=0\n",
    "    while n!=0:\n",
    "        sum_digits += n%10\n",
    "        n//=10\n",
    "    return sum_digits\n",
    "num=int(input(\"enter the value:\"))\n",
    "print(f\"sum of digits:{sumofdigits(abs(num))}\")"
   ]
  },
  {
   "cell_type": "code",
   "execution_count": 71,
   "id": "1227f627",
   "metadata": {},
   "outputs": [
    {
     "name": "stdout",
     "output_type": "stream",
     "text": [
      "reversed of a number:5129786541\n"
     ]
    }
   ],
   "source": [
    "def rev_num(n):\n",
    "    rev_number=0\n",
    "    while n!=0:\n",
    "        digit=n%10\n",
    "        rev_number= rev_number*10+digit\n",
    "        n//=10\n",
    "    return rev_number\n",
    "num=int(input(\"ennter a number:\"))\n",
    "print(f\"reversed of a number:{rev_num(abs(num))}\")"
   ]
  },
  {
   "cell_type": "code",
   "execution_count": 75,
   "id": "e422257f",
   "metadata": {},
   "outputs": [
    {
     "name": "stdout",
     "output_type": "stream",
     "text": [
      "array [11, 12, 22, 25, 34, 90]\n"
     ]
    }
   ],
   "source": [
    "def bubble_sort(arr):\n",
    "    n=len(arr)\n",
    "    for i in range(n):\n",
    "        for j in range(0,n-1):\n",
    "            if arr[j]>arr[j+1]:\n",
    "             arr[j],arr[j+1]=arr[j+1],arr[j]\n",
    "    return arr\n",
    "unsorted_list=[12,25,11,34,90,22]\n",
    "sorted_list=bubble_sort(unsorted_list)\n",
    "print(\"array\",sorted_list)"
   ]
  },
  {
   "cell_type": "code",
   "execution_count": 103,
   "id": "375052b5",
   "metadata": {},
   "outputs": [
    {
     "name": "stdout",
     "output_type": "stream",
     "text": [
      "array [11, 12, 22, 34, 90]\n"
     ]
    }
   ],
   "source": [
    "def selection_sort(arr):\n",
    "    n=len(arr)\n",
    "    for i in range(n):\n",
    "        min_index=i \n",
    "        for j in range(i+1,n):\n",
    "            if arr[j]<arr[min_index]:\n",
    "                min_index=j \n",
    "                arr[i],arr[min_index]=arr[min_index],arr[i]\n",
    "                           \n",
    "    return arr\n",
    "arr=[12,11,34,90,22]\n",
    "selection_sort(arr)\n",
    "print(\"array\",arr)"
   ]
  },
  {
   "cell_type": "code",
   "execution_count": 104,
   "id": "f78fce35",
   "metadata": {},
   "outputs": [
    {
     "name": "stdout",
     "output_type": "stream",
     "text": [
      "[1, 3, 12, 0, 0]\n",
      "[0]\n"
     ]
    }
   ],
   "source": [
    "def move_zeroes(nums):\n",
    "    last_non_zero = 0\n",
    "\n",
    "    for i in range(len(nums)):\n",
    "        if nums[i] != 0:\n",
    "            nums[last_non_zero], nums[i] = nums[i], nums[last_non_zero]\n",
    "            last_non_zero += 1\n",
    "\n",
    "nums1 = [0, 1, 0, 3, 12]\n",
    "move_zeroes(nums1)\n",
    "print(nums1)  \n",
    "nums2 = [0]\n",
    "move_zeroes(nums2)\n",
    "print(nums2)  "
   ]
  }
 ],
 "metadata": {
  "kernelspec": {
   "display_name": "Python 3",
   "language": "python",
   "name": "python3"
  },
  "language_info": {
   "codemirror_mode": {
    "name": "ipython",
    "version": 3
   },
   "file_extension": ".py",
   "mimetype": "text/x-python",
   "name": "python",
   "nbconvert_exporter": "python",
   "pygments_lexer": "ipython3",
   "version": "3.11.9"
  }
 },
 "nbformat": 4,
 "nbformat_minor": 5
}
