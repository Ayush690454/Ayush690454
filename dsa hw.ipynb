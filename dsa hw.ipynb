{
 "cells": [
  {
   "cell_type": "code",
   "execution_count": 1,
   "id": "67458a2f",
   "metadata": {},
   "outputs": [
    {
     "name": "stdout",
     "output_type": "stream",
     "text": [
      "36\n"
     ]
    }
   ],
   "source": [
    "def naturalnumbers(n):\n",
    "    \n",
    "    return (n*(n-1))//2\n",
    "n=int(input(\"enter the value:\"))\n",
    "result=naturalnumbers(n)\n",
    "print(result)"
   ]
  },
  {
   "cell_type": "code",
   "execution_count": null,
   "id": "560b9fbf",
   "metadata": {},
   "outputs": [],
   "source": [
    "def count_num(n):\n",
    "    count =0\n",
    "    while n!=0:\n",
    "        n//=10\n",
    "        count+=1\n",
    "    return count\n",
    "num=int(input(\"enter the value:\"))\n",
    "if num == 0:\n",
    "    print(\"sum of digits : 1\")\n",
    "else:\n",
    "    print(f\"numberr of digits:{count_num(abs(num))}\")\n",
    "    "
   ]
  },
  {
   "cell_type": "code",
   "execution_count": null,
   "id": "231ccbe2",
   "metadata": {},
   "outputs": [],
   "source": [
    "def sumofdigits(n):\n",
    "    sum_digits=0\n",
    "    while n!=0:\n",
    "        sum_digits += n%10\n",
    "        n//=10\n",
    "    return sum_digits\n",
    "num=int(input(\"enter the value:\"))\n",
    "print(f\"sum of digits:{sumofdigits(abs(num))}\")"
   ]
  },
  {
   "cell_type": "code",
   "execution_count": null,
   "id": "c7d0cb3e",
   "metadata": {},
   "outputs": [],
   "source": [
    "def rev_num(n):\n",
    "    rev_number=0\n",
    "    while n!=0:\n",
    "        digit=n%10\n",
    "        rev_number= rev_number*10+digit\n",
    "        n//=10\n",
    "    return rev_number\n",
    "num=int(input(\"ennter a number:\"))\n",
    "print(f\"reversed of a number:{rev_num(abs(num))}\")"
   ]
  },
  {
   "cell_type": "code",
   "execution_count": 2,
   "id": "2e41c76a",
   "metadata": {},
   "outputs": [
    {
     "name": "stdout",
     "output_type": "stream",
     "text": [
      "GCD OF 4 and 12 is : 4\n"
     ]
    }
   ],
   "source": [
    "def gcd(a,b):\n",
    "    if b==0:\n",
    "        return abs(a)\n",
    "    else:\n",
    "        return gcd(b,a%b)\n",
    "num1=int(input(\"ennter a number:\"))\n",
    "num2=int(input(\"ennter a number:\"))\n",
    "print(f\"GCD OF {num1} and {num2} is : {gcd(num1,num2)}\")"
   ]
  },
  {
   "cell_type": "code",
   "execution_count": 3,
   "id": "0e89f73b",
   "metadata": {},
   "outputs": [
    {
     "name": "stdout",
     "output_type": "stream",
     "text": [
      "LCM OF 15 and 30 is : 30\n"
     ]
    }
   ],
   "source": [
    "def gcd(a,b):\n",
    "    while b!=0:\n",
    "        a,b=b,a%b\n",
    "    return abs(a)\n",
    "def lcm(a,b):\n",
    "    return abs(a*b)//gcd(a,b)\n",
    "num1=int(input(\"ennter a number:\"))\n",
    "num2=int(input(\"ennter a number:\"))\n",
    "print(f\"LCM OF {num1} and {num2} is : {lcm(num1,num2)}\")\n"
   ]
  },
  {
   "cell_type": "code",
   "execution_count": 7,
   "id": "722971ff",
   "metadata": {},
   "outputs": [
    {
     "name": "stdout",
     "output_type": "stream",
     "text": [
      "factorial of a 5 is:120\n"
     ]
    }
   ],
   "source": [
    "def factorial(n):\n",
    "    if n<0:\n",
    "        return \"factorial is not defined\"\n",
    "    result = 1\n",
    "    for i in range(1,n+1):\n",
    "        result*=i\n",
    "    return result\n",
    "num=int(input(\"ennter a number:\"))\n",
    "print(f\"factorial of a {num} is:{factorial(num)}\")"
   ]
  },
  {
   "cell_type": "code",
   "execution_count": 9,
   "id": "1b52b8b0",
   "metadata": {},
   "outputs": [
    {
     "name": "stdout",
     "output_type": "stream",
     "text": [
      "prime factor of a 57 is:[3, 4, 5, 6, 7, 8]\n"
     ]
    }
   ],
   "source": [
    "def prime_fac(n):\n",
    "    factors=[]\n",
    "    i=2\n",
    "    while i*i<=n:\n",
    "        if n%10:\n",
    "            i +=1\n",
    "        else:\n",
    "            n//=i\n",
    "            factors.append(i)\n",
    "        if n>1:\n",
    "            factors.append(i)\n",
    "    return factors\n",
    "num=int(input(\"ennter a number:\"))\n",
    "print(f\"prime factor of a {num} is:{prime_fac(num)}\")"
   ]
  },
  {
   "cell_type": "code",
   "execution_count": 13,
   "id": "515d583d",
   "metadata": {},
   "outputs": [
    {
     "name": "stdout",
     "output_type": "stream",
     "text": [
      "not a palindrome 24\n"
     ]
    }
   ],
   "source": [
    "def is_palindrome(n):\n",
    "    return str(n) == str(n)[::-1]\n",
    "num=int(input(\"ennter a number:\"))\n",
    "if is_palindrome(num):\n",
    "    print(\"given number is palindrome of \",num)\n",
    "else:\n",
    "    print(\"not a palindrome\",num)"
   ]
  },
  {
   "cell_type": "code",
   "execution_count": 10,
   "id": "befde76f",
   "metadata": {},
   "outputs": [
    {
     "name": "stdout",
     "output_type": "stream",
     "text": [
      "given number is prime number 13\n"
     ]
    }
   ],
   "source": [
    "def is_prime(n):\n",
    "    if n<= 1:\n",
    "        return False\n",
    "    for i in range(2,int(n**0.5)+1):\n",
    "        if n % i ==0:\n",
    "            return False\n",
    "    return True\n",
    "num=int(input(\"ennter a number:\"))\n",
    "if is_prime(num):\n",
    "    print(\"given number is prime number\",num)\n",
    "else:\n",
    "    print(\"not a prime num\",num)"
   ]
  },
  {
   "cell_type": "code",
   "execution_count": 17,
   "id": "c1cf8b56",
   "metadata": {},
   "outputs": [
    {
     "name": "stdout",
     "output_type": "stream",
     "text": [
      " given number is a perfect square: 25\n"
     ]
    }
   ],
   "source": [
    "import math\n",
    "def sqrt(n):\n",
    "    root=math.sqrt(n)\n",
    "    return root==int(root)\n",
    "num=int(input(\"ennter a number:\"))\n",
    "if sqrt(num):\n",
    "    print(f\" given number is a perfect square:\",num)\n",
    "else:\n",
    "    print(\"sqrt not found\",num)"
   ]
  },
  {
   "cell_type": "code",
   "execution_count": 22,
   "id": "2861df4d",
   "metadata": {},
   "outputs": [
    {
     "name": "stdout",
     "output_type": "stream",
     "text": [
      "407 is a armstrong number\n"
     ]
    }
   ],
   "source": [
    "\n",
    "num=int(input(\"ennter a number:\"))\n",
    "sum=0\n",
    "temp = num\n",
    "while temp>0:\n",
    "    digit =temp%10\n",
    "    sum += digit **3 \n",
    "    temp //=10 \n",
    " \n",
    "if num==sum:\n",
    "     print(num,\"is a armstrong number\")\n",
    "else:\n",
    "    print(num,\"is a not a armstrong number\")\n",
    "       \n",
    "    "
   ]
  },
  {
   "cell_type": "code",
   "execution_count": 23,
   "id": "82ba7821",
   "metadata": {},
   "outputs": [
    {
     "name": "stdout",
     "output_type": "stream",
     "text": [
      "145 is a strong number\n"
     ]
    }
   ],
   "source": [
    "import math\n",
    "def is_a_strongnum(number):\n",
    "    org_num=number\n",
    "    sum_of_factorial=0\n",
    "    while number>0:\n",
    "        digit = number%10\n",
    "        sum_of_factorial+=math.factorial(digit)\n",
    "        number//=10\n",
    "    return sum_of_factorial==org_num\n",
    "num=145\n",
    "if is_a_strongnum(num):\n",
    "     print(num,\"is a strong number\")\n",
    "else:\n",
    "    print(num,\"is a not a strong number\")\n",
    "       "
   ]
  },
  {
   "cell_type": "code",
   "execution_count": 24,
   "id": "2376f16f",
   "metadata": {},
   "outputs": [
    {
     "name": "stdout",
     "output_type": "stream",
     "text": [
      " given number is a perfect number: 25\n"
     ]
    }
   ],
   "source": [
    "def is_perfect(n):\n",
    "    sum_divisors=sum(i for i in range(1,n)if n%i==0)\n",
    "    return sum_divisors==n\n",
    "num=int(input(\"ennter a number:\"))\n",
    "if sqrt(num):\n",
    "    print(f\" given number is a perfect number:\",num)\n",
    "else:\n",
    "    print(\"perfect number not found\",num)"
   ]
  },
  {
   "cell_type": "code",
   "execution_count": 25,
   "id": "b94b3fa3",
   "metadata": {},
   "outputs": [
    {
     "name": "stdout",
     "output_type": "stream",
     "text": [
      "yes\n"
     ]
    }
   ],
   "source": [
    "def checkharshad(n):\n",
    "    sum=0\n",
    "    temp=n\n",
    "    while temp>0:\n",
    "        sum = sum+temp%10\n",
    "        temp =temp //10\n",
    "    return n%sum==0\n",
    "if(checkharshad(12)):\n",
    "    print(\"yes\")\n",
    "else:\n",
    "    print(\"no\")"
   ]
  },
  {
   "cell_type": "code",
   "execution_count": 29,
   "id": "c8fe6a16",
   "metadata": {},
   "outputs": [
    {
     "ename": "TypeError",
     "evalue": "'int' object is not callable",
     "output_type": "error",
     "traceback": [
      "\u001b[31m---------------------------------------------------------------------------\u001b[39m",
      "\u001b[31mTypeError\u001b[39m                                 Traceback (most recent call last)",
      "\u001b[36mCell\u001b[39m\u001b[36m \u001b[39m\u001b[32mIn[29]\u001b[39m\u001b[32m, line 7\u001b[39m\n\u001b[32m      3\u001b[39m     \u001b[38;5;28;01mreturn\u001b[39;00m sum_divisors > n\n\u001b[32m      5\u001b[39m num = \u001b[38;5;28mint\u001b[39m(\u001b[38;5;28minput\u001b[39m(\u001b[33m\"\u001b[39m\u001b[33mEnter a number: \u001b[39m\u001b[33m\"\u001b[39m))\n\u001b[32m----> \u001b[39m\u001b[32m7\u001b[39m \u001b[38;5;28;01mif\u001b[39;00m \u001b[43mis_abundant\u001b[49m\u001b[43m(\u001b[49m\u001b[43mnum\u001b[49m\u001b[43m)\u001b[49m:\n\u001b[32m      8\u001b[39m     \u001b[38;5;28mprint\u001b[39m(\u001b[33mf\u001b[39m\u001b[33m\"\u001b[39m\u001b[38;5;132;01m{\u001b[39;00mnum\u001b[38;5;132;01m}\u001b[39;00m\u001b[33m is an abundant number.\u001b[39m\u001b[33m\"\u001b[39m)\n\u001b[32m      9\u001b[39m \u001b[38;5;28;01melse\u001b[39;00m:\n",
      "\u001b[36mCell\u001b[39m\u001b[36m \u001b[39m\u001b[32mIn[29]\u001b[39m\u001b[32m, line 2\u001b[39m, in \u001b[36mis_abundant\u001b[39m\u001b[34m(n)\u001b[39m\n\u001b[32m      1\u001b[39m \u001b[38;5;28;01mdef\u001b[39;00m\u001b[38;5;250m \u001b[39m\u001b[34mis_abundant\u001b[39m(n):\n\u001b[32m----> \u001b[39m\u001b[32m2\u001b[39m     sum_divisors = \u001b[38;5;28;43msum\u001b[39;49m\u001b[43m(\u001b[49m\u001b[43mi\u001b[49m\u001b[43m \u001b[49m\u001b[38;5;28;43;01mfor\u001b[39;49;00m\u001b[43m \u001b[49m\u001b[43mi\u001b[49m\u001b[43m \u001b[49m\u001b[38;5;129;43;01min\u001b[39;49;00m\u001b[43m \u001b[49m\u001b[38;5;28;43mrange\u001b[39;49m\u001b[43m(\u001b[49m\u001b[32;43m1\u001b[39;49m\u001b[43m,\u001b[49m\u001b[43m \u001b[49m\u001b[43mn\u001b[49m\u001b[43m)\u001b[49m\u001b[43m \u001b[49m\u001b[38;5;28;43;01mif\u001b[39;49;00m\u001b[43m \u001b[49m\u001b[43mn\u001b[49m\u001b[43m \u001b[49m\u001b[43m%\u001b[49m\u001b[43m \u001b[49m\u001b[43mi\u001b[49m\u001b[43m \u001b[49m\u001b[43m==\u001b[49m\u001b[43m \u001b[49m\u001b[32;43m0\u001b[39;49m\u001b[43m)\u001b[49m\n\u001b[32m      3\u001b[39m     \u001b[38;5;28;01mreturn\u001b[39;00m sum_divisors > n\n",
      "\u001b[31mTypeError\u001b[39m: 'int' object is not callable"
     ]
    }
   ],
   "source": [
    "def is_abundant(n):\n",
    "    sum_divisors = sum(i for i in range(1, n) if n % i == 0)\n",
    "    return sum_divisors > n\n",
    "\n",
    "num = int(input(\"Enter a number: \"))\n",
    "\n",
    "if is_abundant(num):\n",
    "    print(f\"{num} is an abundant number.\")\n",
    "else:\n",
    "    print(f\"{num} is not an abundant number.\")\n"
   ]
  },
  {
   "cell_type": "code",
   "execution_count": 33,
   "id": "12d02f94",
   "metadata": {},
   "outputs": [
    {
     "name": "stdout",
     "output_type": "stream",
     "text": [
      "8 is not an automorphic number\n"
     ]
    }
   ],
   "source": [
    "def is_automorphic(n):\n",
    "    square=n**2\n",
    "    return str(square).endswith(str(n))\n",
    "num=int(input(\"enter a number :\"))\n",
    "if is_automorphic(num):\n",
    "    print(f\"{num} is an automorphic number\")\n",
    "else:\n",
    "    print(f\"{num} is not an automorphic number\")"
   ]
  },
  {
   "cell_type": "code",
   "execution_count": 37,
   "id": "4fc98e7e",
   "metadata": {},
   "outputs": [
    {
     "ename": "TypeError",
     "evalue": "'int' object is not callable",
     "output_type": "error",
     "traceback": [
      "\u001b[31m---------------------------------------------------------------------------\u001b[39m",
      "\u001b[31mTypeError\u001b[39m                                 Traceback (most recent call last)",
      "\u001b[36mCell\u001b[39m\u001b[36m \u001b[39m\u001b[32mIn[37]\u001b[39m\u001b[32m, line 12\u001b[39m\n\u001b[32m      8\u001b[39m     \u001b[38;5;28;01mreturn\u001b[39;00m n == \u001b[32m1\u001b[39m\n\u001b[32m     10\u001b[39m num = \u001b[38;5;28mint\u001b[39m(\u001b[38;5;28minput\u001b[39m(\u001b[33m\"\u001b[39m\u001b[33mEnter a number: \u001b[39m\u001b[33m\"\u001b[39m))\n\u001b[32m---> \u001b[39m\u001b[32m12\u001b[39m \u001b[38;5;28;01mif\u001b[39;00m \u001b[43mis_magic_number\u001b[49m\u001b[43m(\u001b[49m\u001b[43mnum\u001b[49m\u001b[43m)\u001b[49m:\n\u001b[32m     13\u001b[39m     \u001b[38;5;28mprint\u001b[39m(\u001b[33mf\u001b[39m\u001b[33m\"\u001b[39m\u001b[38;5;132;01m{\u001b[39;00mnum\u001b[38;5;132;01m}\u001b[39;00m\u001b[33m is a magic number.\u001b[39m\u001b[33m\"\u001b[39m)\n\u001b[32m     14\u001b[39m \u001b[38;5;28;01melse\u001b[39;00m:\n",
      "\u001b[36mCell\u001b[39m\u001b[36m \u001b[39m\u001b[32mIn[37]\u001b[39m\u001b[32m, line 7\u001b[39m, in \u001b[36mis_magic_number\u001b[39m\u001b[34m(n)\u001b[39m\n\u001b[32m      5\u001b[39m \u001b[38;5;28;01mdef\u001b[39;00m\u001b[38;5;250m \u001b[39m\u001b[34mis_magic_number\u001b[39m(n):\n\u001b[32m      6\u001b[39m     \u001b[38;5;28;01mwhile\u001b[39;00m n > \u001b[32m9\u001b[39m:\n\u001b[32m----> \u001b[39m\u001b[32m7\u001b[39m         n = \u001b[43msum_of_digits\u001b[49m\u001b[43m(\u001b[49m\u001b[43mn\u001b[49m\u001b[43m)\u001b[49m\n\u001b[32m      8\u001b[39m     \u001b[38;5;28;01mreturn\u001b[39;00m n == \u001b[32m1\u001b[39m\n",
      "\u001b[36mCell\u001b[39m\u001b[36m \u001b[39m\u001b[32mIn[37]\u001b[39m\u001b[32m, line 3\u001b[39m, in \u001b[36msum_of_digits\u001b[39m\u001b[34m(n)\u001b[39m\n\u001b[32m      1\u001b[39m \u001b[38;5;28;01mdef\u001b[39;00m\u001b[38;5;250m \u001b[39m\u001b[34msum_of_digits\u001b[39m(n):\n\u001b[32m----> \u001b[39m\u001b[32m3\u001b[39m     \u001b[38;5;28;01mreturn\u001b[39;00m \u001b[38;5;28;43msum\u001b[39;49m\u001b[43m(\u001b[49m\u001b[38;5;28;43mint\u001b[39;49m\u001b[43m(\u001b[49m\u001b[43mdigit\u001b[49m\u001b[43m)\u001b[49m\u001b[43m \u001b[49m\u001b[38;5;28;43;01mfor\u001b[39;49;00m\u001b[43m \u001b[49m\u001b[43mdigit\u001b[49m\u001b[43m \u001b[49m\u001b[38;5;129;43;01min\u001b[39;49;00m\u001b[43m \u001b[49m\u001b[38;5;28;43mstr\u001b[39;49m\u001b[43m(\u001b[49m\u001b[43mn\u001b[49m\u001b[43m)\u001b[49m\u001b[43m)\u001b[49m\n",
      "\u001b[31mTypeError\u001b[39m: 'int' object is not callable"
     ]
    }
   ],
   "source": [
    "def sum_of_digits(n):\n",
    "    \n",
    "    return sum(int(digit) for digit in str(n))\n",
    "\n",
    "def is_magic_number(n):\n",
    "    while n > 9:\n",
    "        n = sum_of_digits(n)\n",
    "    return n == 1\n",
    "\n",
    "num = int(input(\"Enter a number: \"))\n",
    "\n",
    "if is_magic_number(num):\n",
    "    print(f\"{num} is a magic number.\")\n",
    "else:\n",
    "    print(f\"{num} is not a magic number.\")\n"
   ]
  },
  {
   "cell_type": "code",
   "execution_count": 38,
   "id": "69c53e1c",
   "metadata": {},
   "outputs": [
    {
     "ename": "TypeError",
     "evalue": "'int' object is not callable",
     "output_type": "error",
     "traceback": [
      "\u001b[31m---------------------------------------------------------------------------\u001b[39m",
      "\u001b[31mTypeError\u001b[39m                                 Traceback (most recent call last)",
      "\u001b[36mCell\u001b[39m\u001b[36m \u001b[39m\u001b[32mIn[38]\u001b[39m\u001b[32m, line 7\u001b[39m\n\u001b[32m      5\u001b[39m num1=\u001b[38;5;28mint\u001b[39m(\u001b[38;5;28minput\u001b[39m(\u001b[33m\"\u001b[39m\u001b[33mennter a number:\u001b[39m\u001b[33m\"\u001b[39m))\n\u001b[32m      6\u001b[39m num2=\u001b[38;5;28mint\u001b[39m(\u001b[38;5;28minput\u001b[39m(\u001b[33m\"\u001b[39m\u001b[33mennter a number:\u001b[39m\u001b[33m\"\u001b[39m))\n\u001b[32m----> \u001b[39m\u001b[32m7\u001b[39m \u001b[38;5;28;01mif\u001b[39;00m \u001b[43mis_a_friendlypair\u001b[49m\u001b[43m(\u001b[49m\u001b[43mnum1\u001b[49m\u001b[43m,\u001b[49m\u001b[43mnum2\u001b[49m\u001b[43m)\u001b[49m:\n\u001b[32m      8\u001b[39m     \u001b[38;5;28mprint\u001b[39m(\u001b[33mf\u001b[39m\u001b[33m\"\u001b[39m\u001b[38;5;132;01m{\u001b[39;00mnum1\u001b[38;5;132;01m}\u001b[39;00m\u001b[33m and \u001b[39m\u001b[38;5;132;01m{\u001b[39;00mnum2\u001b[38;5;132;01m}\u001b[39;00m\u001b[33m are friendly pair\u001b[39m\u001b[33m\"\u001b[39m)\n\u001b[32m      9\u001b[39m \u001b[38;5;28;01melse\u001b[39;00m:\n",
      "\u001b[36mCell\u001b[39m\u001b[36m \u001b[39m\u001b[32mIn[38]\u001b[39m\u001b[32m, line 4\u001b[39m, in \u001b[36mis_a_friendlypair\u001b[39m\u001b[34m(a, b)\u001b[39m\n\u001b[32m      3\u001b[39m \u001b[38;5;28;01mdef\u001b[39;00m\u001b[38;5;250m \u001b[39m\u001b[34mis_a_friendlypair\u001b[39m(a,b):\n\u001b[32m----> \u001b[39m\u001b[32m4\u001b[39m     \u001b[38;5;28;01mreturn\u001b[39;00m \u001b[43msum_of_divisors\u001b[49m\u001b[43m(\u001b[49m\u001b[43ma\u001b[49m\u001b[43m)\u001b[49m/a == sum_of_divisors(b)/b\n",
      "\u001b[36mCell\u001b[39m\u001b[36m \u001b[39m\u001b[32mIn[38]\u001b[39m\u001b[32m, line 2\u001b[39m, in \u001b[36msum_of_divisors\u001b[39m\u001b[34m(n)\u001b[39m\n\u001b[32m      1\u001b[39m \u001b[38;5;28;01mdef\u001b[39;00m\u001b[38;5;250m \u001b[39m\u001b[34msum_of_divisors\u001b[39m(n):\n\u001b[32m----> \u001b[39m\u001b[32m2\u001b[39m     \u001b[38;5;28;01mreturn\u001b[39;00m \u001b[38;5;28;43msum\u001b[39;49m\u001b[43m(\u001b[49m\u001b[43mi\u001b[49m\u001b[43m \u001b[49m\u001b[38;5;28;43;01mfor\u001b[39;49;00m\u001b[43m \u001b[49m\u001b[43mi\u001b[49m\u001b[43m \u001b[49m\u001b[38;5;129;43;01min\u001b[39;49;00m\u001b[43m \u001b[49m\u001b[38;5;28;43mrange\u001b[39;49m\u001b[43m(\u001b[49m\u001b[32;43m1\u001b[39;49m\u001b[43m,\u001b[49m\u001b[43mn\u001b[49m\u001b[43m)\u001b[49m\u001b[43m \u001b[49m\u001b[38;5;28;43;01mif\u001b[39;49;00m\u001b[43m \u001b[49m\u001b[43mn\u001b[49m\u001b[43m%\u001b[49m\u001b[43mi\u001b[49m\u001b[43m==\u001b[49m\u001b[32;43m0\u001b[39;49m\u001b[43m \u001b[49m\u001b[43m)\u001b[49m\n",
      "\u001b[31mTypeError\u001b[39m: 'int' object is not callable"
     ]
    }
   ],
   "source": [
    "def sum_of_divisors(n):\n",
    "    return sum(i for i in range(1,n) if n%i==0 )\n",
    "def is_a_friendlypair(a,b):\n",
    "    return sum_of_divisors(a)/a == sum_of_divisors(b)/b\n",
    "num1=int(input(\"ennter a number:\"))\n",
    "num2=int(input(\"ennter a number:\"))\n",
    "if is_a_friendlypair(num1,num2):\n",
    "    print(f\"{num1} and {num2} are friendly pair\")\n",
    "else:\n",
    "    print(f\"{num1} and {num2} are not a friendly pair\")"
   ]
  }
 ],
 "metadata": {
  "kernelspec": {
   "display_name": "Python 3",
   "language": "python",
   "name": "python3"
  },
  "language_info": {
   "codemirror_mode": {
    "name": "ipython",
    "version": 3
   },
   "file_extension": ".py",
   "mimetype": "text/x-python",
   "name": "python",
   "nbconvert_exporter": "python",
   "pygments_lexer": "ipython3",
   "version": "3.11.9"
  }
 },
 "nbformat": 4,
 "nbformat_minor": 5
}
